{
 "cells": [
  {
   "cell_type": "markdown",
   "metadata": {},
   "source": [
    "## Попередня обробка даних\n",
    "\n",
    "### Вступ\n",
    "\n",
    "Попередня обробка даних - це важливий етап в аналізі даних. Необхідно заздалегідь підготувати дані таким чином, щоб найкраще розкрити структуру проблеми алгоритмам машинного навчання, які будуть до цих даних застосовуватись. Це передбачає ряд заходів, таких як:\n",
    "* Присвоєння числових значень категоричним даним;\n",
    "* Обробка відсутніх значень;\n",
    "* Нормалізація функцій (щоб функції на малих масштабах не домінували при підключенні моделі до даних).\n",
    "\n",
    "\n",
    "\n",
    "У розділі 2 \"Дослідницький аналіз даних\" виконане дослідження, щоб допомогти зрозуміти розподіл даних, а також те, як атрибути співвідносяться між собою. Були визначені функції інтересу. У цьому розділі використовуються функції для оптимізації даних великих розмірів.\n",
    "\n",
    "### Мета:\n",
    "Знайти найбільш прогнозовані функції даних і відфільтрувати їх так, щоб це підвищило прогнозовану силу аналітичної моделі.\n",
    "\n",
    "#### Завантаження даних та основних бібліотек"
   ]
  },
  {
   "cell_type": "code",
   "execution_count": 1,
   "metadata": {},
   "outputs": [
    {
     "data": {
      "text/html": [
       "<div>\n",
       "<style scoped>\n",
       "    .dataframe tbody tr th:only-of-type {\n",
       "        vertical-align: middle;\n",
       "    }\n",
       "\n",
       "    .dataframe tbody tr th {\n",
       "        vertical-align: top;\n",
       "    }\n",
       "\n",
       "    .dataframe thead th {\n",
       "        text-align: right;\n",
       "    }\n",
       "</style>\n",
       "<table border=\"1\" class=\"dataframe\">\n",
       "  <thead>\n",
       "    <tr style=\"text-align: right;\">\n",
       "      <th></th>\n",
       "      <th>diagnosis</th>\n",
       "      <th>radius_mean</th>\n",
       "      <th>texture_mean</th>\n",
       "      <th>perimeter_mean</th>\n",
       "      <th>area_mean</th>\n",
       "      <th>smoothness_mean</th>\n",
       "      <th>compactness_mean</th>\n",
       "      <th>concavity_mean</th>\n",
       "      <th>concave points_mean</th>\n",
       "      <th>symmetry_mean</th>\n",
       "      <th>...</th>\n",
       "      <th>radius_worst</th>\n",
       "      <th>texture_worst</th>\n",
       "      <th>perimeter_worst</th>\n",
       "      <th>area_worst</th>\n",
       "      <th>smoothness_worst</th>\n",
       "      <th>compactness_worst</th>\n",
       "      <th>concavity_worst</th>\n",
       "      <th>concave points_worst</th>\n",
       "      <th>symmetry_worst</th>\n",
       "      <th>fractal_dimension_worst</th>\n",
       "    </tr>\n",
       "  </thead>\n",
       "  <tbody>\n",
       "    <tr>\n",
       "      <th>0</th>\n",
       "      <td>M</td>\n",
       "      <td>17.99</td>\n",
       "      <td>10.38</td>\n",
       "      <td>122.80</td>\n",
       "      <td>1001.0</td>\n",
       "      <td>0.11840</td>\n",
       "      <td>0.27760</td>\n",
       "      <td>0.3001</td>\n",
       "      <td>0.14710</td>\n",
       "      <td>0.2419</td>\n",
       "      <td>...</td>\n",
       "      <td>25.38</td>\n",
       "      <td>17.33</td>\n",
       "      <td>184.60</td>\n",
       "      <td>2019.0</td>\n",
       "      <td>0.1622</td>\n",
       "      <td>0.6656</td>\n",
       "      <td>0.7119</td>\n",
       "      <td>0.2654</td>\n",
       "      <td>0.4601</td>\n",
       "      <td>0.11890</td>\n",
       "    </tr>\n",
       "    <tr>\n",
       "      <th>1</th>\n",
       "      <td>M</td>\n",
       "      <td>20.57</td>\n",
       "      <td>17.77</td>\n",
       "      <td>132.90</td>\n",
       "      <td>1326.0</td>\n",
       "      <td>0.08474</td>\n",
       "      <td>0.07864</td>\n",
       "      <td>0.0869</td>\n",
       "      <td>0.07017</td>\n",
       "      <td>0.1812</td>\n",
       "      <td>...</td>\n",
       "      <td>24.99</td>\n",
       "      <td>23.41</td>\n",
       "      <td>158.80</td>\n",
       "      <td>1956.0</td>\n",
       "      <td>0.1238</td>\n",
       "      <td>0.1866</td>\n",
       "      <td>0.2416</td>\n",
       "      <td>0.1860</td>\n",
       "      <td>0.2750</td>\n",
       "      <td>0.08902</td>\n",
       "    </tr>\n",
       "    <tr>\n",
       "      <th>2</th>\n",
       "      <td>M</td>\n",
       "      <td>19.69</td>\n",
       "      <td>21.25</td>\n",
       "      <td>130.00</td>\n",
       "      <td>1203.0</td>\n",
       "      <td>0.10960</td>\n",
       "      <td>0.15990</td>\n",
       "      <td>0.1974</td>\n",
       "      <td>0.12790</td>\n",
       "      <td>0.2069</td>\n",
       "      <td>...</td>\n",
       "      <td>23.57</td>\n",
       "      <td>25.53</td>\n",
       "      <td>152.50</td>\n",
       "      <td>1709.0</td>\n",
       "      <td>0.1444</td>\n",
       "      <td>0.4245</td>\n",
       "      <td>0.4504</td>\n",
       "      <td>0.2430</td>\n",
       "      <td>0.3613</td>\n",
       "      <td>0.08758</td>\n",
       "    </tr>\n",
       "    <tr>\n",
       "      <th>3</th>\n",
       "      <td>M</td>\n",
       "      <td>11.42</td>\n",
       "      <td>20.38</td>\n",
       "      <td>77.58</td>\n",
       "      <td>386.1</td>\n",
       "      <td>0.14250</td>\n",
       "      <td>0.28390</td>\n",
       "      <td>0.2414</td>\n",
       "      <td>0.10520</td>\n",
       "      <td>0.2597</td>\n",
       "      <td>...</td>\n",
       "      <td>14.91</td>\n",
       "      <td>26.50</td>\n",
       "      <td>98.87</td>\n",
       "      <td>567.7</td>\n",
       "      <td>0.2098</td>\n",
       "      <td>0.8663</td>\n",
       "      <td>0.6869</td>\n",
       "      <td>0.2575</td>\n",
       "      <td>0.6638</td>\n",
       "      <td>0.17300</td>\n",
       "    </tr>\n",
       "    <tr>\n",
       "      <th>4</th>\n",
       "      <td>M</td>\n",
       "      <td>20.29</td>\n",
       "      <td>14.34</td>\n",
       "      <td>135.10</td>\n",
       "      <td>1297.0</td>\n",
       "      <td>0.10030</td>\n",
       "      <td>0.13280</td>\n",
       "      <td>0.1980</td>\n",
       "      <td>0.10430</td>\n",
       "      <td>0.1809</td>\n",
       "      <td>...</td>\n",
       "      <td>22.54</td>\n",
       "      <td>16.67</td>\n",
       "      <td>152.20</td>\n",
       "      <td>1575.0</td>\n",
       "      <td>0.1374</td>\n",
       "      <td>0.2050</td>\n",
       "      <td>0.4000</td>\n",
       "      <td>0.1625</td>\n",
       "      <td>0.2364</td>\n",
       "      <td>0.07678</td>\n",
       "    </tr>\n",
       "  </tbody>\n",
       "</table>\n",
       "<p>5 rows × 31 columns</p>\n",
       "</div>"
      ],
      "text/plain": [
       "  diagnosis  radius_mean  texture_mean  perimeter_mean  area_mean  \\\n",
       "0         M        17.99         10.38          122.80     1001.0   \n",
       "1         M        20.57         17.77          132.90     1326.0   \n",
       "2         M        19.69         21.25          130.00     1203.0   \n",
       "3         M        11.42         20.38           77.58      386.1   \n",
       "4         M        20.29         14.34          135.10     1297.0   \n",
       "\n",
       "   smoothness_mean  compactness_mean  concavity_mean  concave points_mean  \\\n",
       "0          0.11840           0.27760          0.3001              0.14710   \n",
       "1          0.08474           0.07864          0.0869              0.07017   \n",
       "2          0.10960           0.15990          0.1974              0.12790   \n",
       "3          0.14250           0.28390          0.2414              0.10520   \n",
       "4          0.10030           0.13280          0.1980              0.10430   \n",
       "\n",
       "   symmetry_mean  ...  radius_worst  texture_worst  perimeter_worst  \\\n",
       "0         0.2419  ...         25.38          17.33           184.60   \n",
       "1         0.1812  ...         24.99          23.41           158.80   \n",
       "2         0.2069  ...         23.57          25.53           152.50   \n",
       "3         0.2597  ...         14.91          26.50            98.87   \n",
       "4         0.1809  ...         22.54          16.67           152.20   \n",
       "\n",
       "   area_worst  smoothness_worst  compactness_worst  concavity_worst  \\\n",
       "0      2019.0            0.1622             0.6656           0.7119   \n",
       "1      1956.0            0.1238             0.1866           0.2416   \n",
       "2      1709.0            0.1444             0.4245           0.4504   \n",
       "3       567.7            0.2098             0.8663           0.6869   \n",
       "4      1575.0            0.1374             0.2050           0.4000   \n",
       "\n",
       "   concave points_worst  symmetry_worst  fractal_dimension_worst  \n",
       "0                0.2654          0.4601                  0.11890  \n",
       "1                0.1860          0.2750                  0.08902  \n",
       "2                0.2430          0.3613                  0.08758  \n",
       "3                0.2575          0.6638                  0.17300  \n",
       "4                0.1625          0.2364                  0.07678  \n",
       "\n",
       "[5 rows x 31 columns]"
      ]
     },
     "execution_count": 1,
     "metadata": {},
     "output_type": "execute_result"
    }
   ],
   "source": [
    "%matplotlib inline\n",
    "import matplotlib.pyplot as plt\n",
    "\n",
    "#Завантаження бібліотек для обробки даних\n",
    "import pandas as pd #обробка даних, CSV file I/O (e.g. pd.read_csv)\n",
    "import numpy as np\n",
    "from scipy.stats import norm\n",
    "\n",
    "# візуалізація\n",
    "import seaborn as sns \n",
    "plt.style.use('fivethirtyeight')\n",
    "sns.set_style(\"white\")\n",
    "\n",
    "\n",
    "plt.rcParams['figure.figsize'] = (8,4) \n",
    "plt.rcParams['axes.titlesize'] = 'large'\n",
    "\n",
    "data = pd.read_csv('data/clean-data.csv', index_col=False)\n",
    "data.drop('Unnamed: 0',axis=1, inplace=True)\n",
    "data.head()"
   ]
  },
  {
   "cell_type": "markdown",
   "metadata": {},
   "source": [
    "#### Кодування міток\n",
    "Занесення 30 ознак до NumPy масиву X та перетворення класових міток з їх оригінального рядкового (string) представлення (M та B) в цілочисельне (integer)."
   ]
  },
  {
   "cell_type": "code",
   "execution_count": 2,
   "metadata": {},
   "outputs": [],
   "source": [
    "#Призначення предикторів до змінної типу ndarray (матриця)\n",
    "array = data.values\n",
    "X = array[:,1:31]\n",
    "y = array[:,0]"
   ]
  },
  {
   "cell_type": "code",
   "execution_count": 5,
   "metadata": {},
   "outputs": [
    {
     "data": {
      "text/plain": [
       "array([1, 0], dtype=int64)"
      ]
     },
     "execution_count": 5,
     "metadata": {},
     "output_type": "execute_result"
    }
   ],
   "source": [
    "#перетворення класових міток з їх оригінального рядкового (string) представлення (M та B) в цілочисельне (integer)\n",
    "from sklearn.preprocessing import LabelEncoder\n",
    "le = LabelEncoder()\n",
    "y = le.fit_transform(y)\n",
    "\n",
    "#метод перетворення LabelEncorder двох фіктивних змінних\n",
    "le.transform (['M', 'B'])"
   ]
  },
  {
   "cell_type": "markdown",
   "metadata": {},
   "source": [
    "Після кодування міток класу (діагнозу) у масиві злоякісні пухлини тепер представлені як клас 1 (тобто наявність ракових клітин), а доброякісні пухлини представлені як клас 0 (тобто відсутність ракових клітин) відповідно.\n",
    "\n",
    "\n",
    "#### Оцінка точності моделі: розбиття даних на навчальні та тестові набори\n",
    "\n",
    "Найпростіший метод оцінювання продуктивності алгоритму машинного навчання - використання різних наборів даних для навчання та тестування. Кроки:\n",
    "* Розділити наявні дані на навчальний і тестовий набір. (70% навчання, 30% тесту)\n",
    "* Навчання алгоритму на першій частині даних\n",
    "* Зробити прогноз щодо другої частини\n",
    "* Оцінити прогнози щодо очікуваних результатів\n",
    "\n",
    "Розмір розбиття може залежати від розміру та специфіки набору даних, хоча зазвичай 67% даних використовується для тренувань, а решта 33% - для тестування."
   ]
  },
  {
   "cell_type": "code",
   "execution_count": 6,
   "metadata": {},
   "outputs": [
    {
     "data": {
      "text/plain": [
       "((426, 30), (426,), (143, 30), (143,))"
      ]
     },
     "execution_count": 6,
     "metadata": {},
     "output_type": "execute_result"
    }
   ],
   "source": [
    "from sklearn.model_selection import train_test_split\n",
    "\n",
    "##Розбиття набору даних: 70% для навчання, 30% для тестування\n",
    "X_train, X_test, y_train, y_test = train_test_split( X, y, test_size=0.25, random_state=7)\n",
    "X_train.shape, y_train.shape, X_test.shape, y_test.shape"
   ]
  },
  {
   "cell_type": "markdown",
   "metadata": {},
   "source": [
    "#### Стандартизація ознак\n",
    "\n",
    "* Стандартизація - це корисна методика перетворення атрибутів з гауссовим розподілом та різними відхиленнями у стандартний розподіл Гаусса із середнім значенням 0 та стандартним відхиленням 1.\n",
    "\n",
    "* Як вже відомо з розділу 2 \"Дослідницький аналіз даних\" вихідні дані мають різні розподіли, що може впливати на більшість алгоритмів машинного навчання. Алгоритми машинного навчання та оптимізації поводяться набагато краще, якщо функції знаходяться в одному масштабі.\n",
    "\n",
    "Оцінимо ті самі алгоритми зі стандартизованою копією набору даних. Використовується sklearn для масштабування та перетворення даних таким чином, що кожен атрибут має середнє значення 0 та стандартне відхилення 1."
   ]
  },
  {
   "cell_type": "code",
   "execution_count": 10,
   "metadata": {},
   "outputs": [],
   "source": [
    "from sklearn.preprocessing import StandardScaler\n",
    "\n",
    "# нормалізація даних (центр близький до 0 і масштаб для видалення дисперсії).\n",
    "scaler = StandardScaler()\n",
    "Xs = scaler.fit_transform(X)"
   ]
  },
  {
   "cell_type": "markdown",
   "metadata": {},
   "source": [
    "#### Декомпозиція ознак використовуючи аналіз основних компонентів - Principal Component Analysis (PCA)\n",
    "В розділі 2 \"Дослідницький аналіз даних\" були наведені пари ознак, які добре розділяють дані. Тому є сенс використовувати один із методів зменшення розмірності, щоб спробувати використовувати якомога більше функцій та підтримувати якомога більше інформації при роботі з лише двома вимірами. Далі використовується PCA."
   ]
  },
  {
   "cell_type": "code",
   "execution_count": 11,
   "metadata": {},
   "outputs": [
    {
     "name": "stdout",
     "output_type": "stream",
     "text": [
      "Explained Variance:  [0.44272026 0.18971182 0.09393163 0.06602135 0.05495768 0.04024522\n",
      " 0.02250734 0.01588724 0.01389649 0.01168978]\n",
      "[[ 2.18902444e-01  1.03724578e-01  2.27537293e-01  2.20994985e-01\n",
      "   1.42589694e-01  2.39285354e-01  2.58400481e-01  2.60853758e-01\n",
      "   1.38166959e-01  6.43633464e-02  2.05978776e-01  1.74280281e-02\n",
      "   2.11325916e-01  2.02869635e-01  1.45314521e-02  1.70393451e-01\n",
      "   1.53589790e-01  1.83417397e-01  4.24984216e-02  1.02568322e-01\n",
      "   2.27996634e-01  1.04469325e-01  2.36639681e-01  2.24870533e-01\n",
      "   1.27952561e-01  2.10095880e-01  2.28767533e-01  2.50885971e-01\n",
      "   1.22904556e-01  1.31783943e-01]\n",
      " [-2.33857132e-01 -5.97060883e-02 -2.15181361e-01 -2.31076711e-01\n",
      "   1.86113023e-01  1.51891610e-01  6.01653628e-02 -3.47675005e-02\n",
      "   1.90348770e-01  3.66575471e-01 -1.05552152e-01  8.99796818e-02\n",
      "  -8.94572342e-02 -1.52292628e-01  2.04430453e-01  2.32715896e-01\n",
      "   1.97207283e-01  1.30321560e-01  1.83848000e-01  2.80092027e-01\n",
      "  -2.19866379e-01 -4.54672983e-02 -1.99878428e-01 -2.19351858e-01\n",
      "   1.72304352e-01  1.43593173e-01  9.79641143e-02 -8.25723507e-03\n",
      "   1.41883349e-01  2.75339469e-01]\n",
      " [-8.53124283e-03  6.45499033e-02 -9.31421971e-03  2.86995259e-02\n",
      "  -1.04291904e-01 -7.40915708e-02  2.73383795e-03 -2.55635407e-02\n",
      "  -4.02399363e-02 -2.25740897e-02  2.68481387e-01  3.74633665e-01\n",
      "   2.66645367e-01  2.16006528e-01  3.08838979e-01  1.54779718e-01\n",
      "   1.76463743e-01  2.24657567e-01  2.88584292e-01  2.11503765e-01\n",
      "  -4.75069900e-02 -4.22978227e-02 -4.85465083e-02 -1.19023182e-02\n",
      "  -2.59797613e-01 -2.36075625e-01 -1.73057335e-01 -1.70344076e-01\n",
      "  -2.71312642e-01 -2.32791313e-01]\n",
      " [ 4.14089623e-02 -6.03050000e-01  4.19830991e-02  5.34337955e-02\n",
      "   1.59382765e-01  3.17945810e-02  1.91227535e-02  6.53359444e-02\n",
      "   6.71249839e-02  4.85867649e-02  9.79412419e-02 -3.59855528e-01\n",
      "   8.89924146e-02  1.08205039e-01  4.46641796e-02 -2.74693631e-02\n",
      "   1.31688000e-03  7.40673349e-02  4.40733509e-02  1.53047495e-02\n",
      "   1.54172396e-02 -6.32807885e-01  1.38027944e-02  2.58947492e-02\n",
      "   1.76522162e-02 -9.13284154e-02 -7.39511797e-02  6.00699575e-03\n",
      "  -3.62506946e-02 -7.70534703e-02]\n",
      " [ 3.77863536e-02 -4.94688501e-02  3.73746631e-02  1.03312513e-02\n",
      "  -3.65088528e-01  1.17039713e-02  8.63754122e-02 -4.38610246e-02\n",
      "  -3.05941428e-01 -4.44243607e-02 -1.54456496e-01 -1.91650505e-01\n",
      "  -1.20990221e-01 -1.27574432e-01 -2.32065676e-01  2.79968156e-01\n",
      "   3.53982091e-01  1.95548089e-01 -2.52868765e-01  2.63297437e-01\n",
      "  -4.40659198e-03 -9.28834006e-02  7.45415093e-03 -2.73909028e-02\n",
      "  -3.24435445e-01  1.21804106e-01  1.88518726e-01  4.33320680e-02\n",
      "  -2.44558663e-01  9.44233518e-02]\n",
      " [ 1.87407899e-02 -3.21788384e-02  1.73084444e-02 -1.88774842e-03\n",
      "  -2.86374497e-01 -1.41309482e-02 -9.34417905e-03 -5.20499483e-02\n",
      "   3.56458461e-01 -1.19430670e-01 -2.56032553e-02 -2.87473153e-02\n",
      "   1.81071376e-03 -4.28639080e-02 -3.42917394e-01  6.91975186e-02\n",
      "   5.63432394e-02 -3.12244468e-02  4.90245643e-01 -5.31952690e-02\n",
      "  -2.90684431e-04 -5.00080590e-02  8.50098689e-03 -2.51643812e-02\n",
      "  -3.69255370e-01  4.77057928e-02  2.83792526e-02 -3.08734531e-02\n",
      "   4.98926784e-01 -8.02235212e-02]\n",
      " [-1.24088352e-01  1.13995462e-02 -1.14477067e-01 -5.16534339e-02\n",
      "  -1.40669006e-01  3.09185025e-02 -1.07520410e-01 -1.50482174e-01\n",
      "  -9.38911377e-02  2.95759991e-01  3.12490046e-01 -9.07553528e-02\n",
      "   3.14640374e-01  3.46678999e-01 -2.44024068e-01  2.34635465e-02\n",
      "  -2.08823777e-01 -3.69645917e-01 -8.03822521e-02  1.91394943e-01\n",
      "  -9.70992950e-03  9.87073188e-03 -4.45729964e-04  6.78316776e-02\n",
      "  -1.08830866e-01  1.40472930e-01 -6.04881053e-02 -1.67966673e-01\n",
      "  -1.84906278e-02  3.74657681e-01]\n",
      " [-7.45218307e-03  1.30674472e-01 -1.86871562e-02  3.46736334e-02\n",
      "  -2.88974397e-01 -1.51396342e-01 -7.28276226e-02 -1.52322806e-01\n",
      "  -2.31530904e-01 -1.77121173e-01  2.25398742e-02 -4.75413286e-01\n",
      "  -1.18965416e-02  8.58051860e-02  5.73410406e-01  1.17459969e-01\n",
      "   6.05664390e-02 -1.08319505e-01  2.20149356e-01  1.11684569e-02\n",
      "   4.26193703e-02  3.62521113e-02  3.05585815e-02  7.93940469e-02\n",
      "   2.05851875e-01  8.40197504e-02  7.24682860e-02 -3.61702481e-02\n",
      "   2.28224899e-01  4.83602203e-02]\n",
      " [-2.23109783e-01  1.12699007e-01 -2.23739239e-01 -1.95586084e-01\n",
      "   6.42471339e-03 -1.67841313e-01  4.05911764e-02 -1.11970897e-01\n",
      "   2.56040141e-01 -1.23741000e-01  2.49985154e-01 -2.46645565e-01\n",
      "   2.27153818e-01  2.29160020e-01 -1.41924887e-01 -1.45322816e-01\n",
      "   3.58107172e-01  2.72520032e-01 -3.04077054e-01 -2.13722909e-01\n",
      "  -1.12141381e-01  1.03341694e-01 -1.09614419e-01 -8.07324143e-02\n",
      "   1.12315852e-01 -1.00677848e-01  1.61908330e-01  6.04881309e-02\n",
      "   6.46376273e-02 -1.34173786e-01]\n",
      " [ 9.54866037e-02  2.40933431e-01  8.63857573e-02  7.49565810e-02\n",
      "  -6.92924552e-02  1.29362008e-02 -1.35602581e-01  8.05394555e-03\n",
      "   5.72069577e-01  8.11036426e-02 -4.95476319e-02 -2.89143006e-01\n",
      "  -1.14508213e-01 -9.19277554e-02  1.60884831e-01  4.35044950e-02\n",
      "  -1.41276628e-01  8.62408785e-02 -3.16529718e-01  3.67542403e-01\n",
      "   7.73615704e-02  2.95517825e-02  5.05083096e-02  6.99209661e-02\n",
      "  -1.28305079e-01 -1.72133362e-01 -3.11637693e-01 -7.66479795e-02\n",
      "  -2.95632587e-02  1.26087949e-02]]\n"
     ]
    }
   ],
   "source": [
    "from sklearn.decomposition import PCA\n",
    "# вилучення ознак\n",
    "pca = PCA(n_components=10)\n",
    "fit = pca.fit(Xs)\n",
    "\n",
    "# підсумкові дані\n",
    "print(\"Explained Variance: \", fit.explained_variance_ratio_)\n",
    "print(fit.components_)"
   ]
  },
  {
   "cell_type": "code",
   "execution_count": 12,
   "metadata": {},
   "outputs": [
    {
     "data": {
      "image/png": "[encoded data removed]",
      "text/plain": [
       "<Figure size 576x288 with 1 Axes>"
      ]
     },
     "metadata": {},
     "output_type": "display_data"
    }
   ],
   "source": [
    "X_pca = pca.transform(Xs)\n",
    "\n",
    "PCA_df = pd.DataFrame()\n",
    "\n",
    "PCA_df['PCA_1'] = X_pca[:,0]\n",
    "PCA_df['PCA_2'] = X_pca[:,1]\n",
    "\n",
    "plt.plot(PCA_df['PCA_1'][data.diagnosis == 'M'],PCA_df['PCA_2'][data.diagnosis == 'M'],'o', alpha = 0.7, color = 'r')\n",
    "plt.plot(PCA_df['PCA_1'][data.diagnosis == 'B'],PCA_df['PCA_2'][data.diagnosis == 'B'],'o', alpha = 0.7, color = 'b')\n",
    "\n",
    "plt.xlabel('PCA_1')\n",
    "plt.ylabel('PCA_2')\n",
    "plt.legend(['Malignant','Benign'])\n",
    "plt.show()"
   ]
  },
  {
   "cell_type": "markdown",
   "metadata": {},
   "source": [
    "Після застосування лінійної трансформації PCA отримано підпростір (від 3D до 2D), де зразки \"найбільш розповсюджені\" уздовж нових осей функції."
   ]
  },
  {
   "cell_type": "code",
   "execution_count": 13,
   "metadata": {},
   "outputs": [
    {
     "name": "stdout",
     "output_type": "stream",
     "text": [
      "[44.27 63.24 72.63 79.23 84.73 88.75 91.   92.59 93.98 95.15]\n"
     ]
    }
   ],
   "source": [
    "#кількість дисперсій, яку пояснює кожен головний компонент\n",
    "var= pca.explained_variance_ratio_\n",
    "#сукупна варіативність\n",
    "var1=np.cumsum(np.round(pca.explained_variance_ratio_, decimals=4)*100)\n",
    "print(var1)"
   ]
  },
  {
   "cell_type": "markdown",
   "metadata": {},
   "source": [
    "### Вирішення, скільки основних компонентів потрібно зберегти\n",
    "Для того, щоб визначити, скільки основних компонентів слід зберегти, прийнято узагальнити результати аналізу основних компонентів, склавши графік огляду."
   ]
  },
  {
   "cell_type": "code",
   "execution_count": 15,
   "metadata": {},
   "outputs": [
    {
     "data": {
      "image/png": "[encoded data removed]",
      "text/plain": [
       "<Figure size 576x288 with 1 Axes>"
      ]
     },
     "metadata": {},
     "output_type": "display_data"
    }
   ],
   "source": [
    "#кількість дисперсій, яку пояснює кожен головний компонент\n",
    "var= pca.explained_variance_ratio_\n",
    "#сукупна варіативність\n",
    "#var1=np.cumsum(np.round(pca.explained_variance_ratio_, decimals=4)*100)\n",
    "#print(var1)\n",
    "\n",
    "plt.plot(var)\n",
    "plt.title('Scree Plot')\n",
    "plt.xlabel('Principal Component')\n",
    "plt.ylabel('Eigenvalue')\n",
    "\n",
    "leg = plt.legend(['Eigenvalues from PCA'], loc='best', borderpad=0.3,shadow=False,markerscale=0.4)\n",
    "leg.get_frame().set_alpha(0.4)\n",
    "plt.show()"
   ]
  },
  {
   "cell_type": "markdown",
   "metadata": {},
   "source": [
    "Найбільш очевидна зміна нахилу відбувається в компоненті 2, який є «ліктем» графіку власних значень. Таким чином, виходячи з графіку, можна стверджувати, що перші три компоненти слід зберегти."
   ]
  },
  {
   "cell_type": "markdown",
   "metadata": {},
   "source": [
    "### Підсумок:\n",
    "\n",
    "1. Занесення 30 ознак до NumPy масиву X та перетворення класових міток з їх оригінального рядкового представлення (M та B) в цілочисельне.\n",
    "2. Розбиття даних на навчальні та тестові набори.\n",
    "3. Стандартизація даних.\n",
    "4. Отримання власних векторів та значень з матриці коваріації чи матриці кореляції.\n",
    "5. Сортування власних значень у порядку зменшення та вибір власних векторів kk, які відповідають найбільшим власним значенням kk, де k - розмірність нового підпростору ознак (k≤dk≤d).\n",
    "6. Побудова проекційної матриці W з вибраних власних векторів k.\n",
    "7. Перетворення вихідного набору даних X через W, щоб отримати k-мірний підпростір ознак Y."
   ]
  }
 ],
 "metadata": {
  "kernelspec": {
   "display_name": "Python 3",
   "language": "python",
   "name": "python3"
  },
  "language_info": {
   "codemirror_mode": {
    "name": "ipython",
    "version": 3
   },
   "file_extension": ".py",
   "mimetype": "text/x-python",
   "name": "python",
   "nbconvert_exporter": "python",
   "pygments_lexer": "ipython3",
   "version": "3.7.4"
  }
 },
 "nbformat": 4,
 "nbformat_minor": 2
}
