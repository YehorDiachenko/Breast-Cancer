{
 "cells": [
  {
   "cell_type": "markdown",
   "metadata": {},
   "source": [
    "# 2. Дослідницький аналіз даних\n",
    "\n",
    "## 2.1. Мета дослідження даних\n",
    "Дослідницький аналіз даних (EDA) - це важливий етап, який відбувається після отримання даних, і його слід робити перед моделюванням. Важливий тому, що науковцю необхідно розуміти природу даних, не роблячи припущень. Результати дослідження даних можуть бути надзвичайно корисними для розуміння структури даних, розподілу значень та визначенні граничних значень та взаємозв'язків у наборі даних.\n",
    "> **Мета EDA:**\n",
    "* використовувати зведені статистичні дані та візуалізації для кращого розуміння даних, знаходити їх тенденції, їх якості та  формулювати гіпотези аналізу;\n",
    "* для успішної попередньої обробки даних важливо мати загальне уявлення про наявні дані.\n",
    "Основні статистичні описи можуть бути використані для ідентифікації властивостей даних.\n",
    "\n",
    "Наступним етапом є вивчення даних. Для вивчення даних використовуються два підходи:\n",
    "\n",
    "1. ***Описова статистика*** це процес конденсації ключових характеристик набору даних у простих числових показниках. Деякі поширені показники - це середнє, стандартне відхилення та кореляція.\n",
    "\n",
    "2. ***Візуалізація*** це процес проектування даних або їх частин у декартовий простір або в абстрактних зображеннях. Процес обробки даних використовується на багатьох етапах, включаючи попередню обробку, моделювання та інтерпретацію результатів."
   ]
  },
  {
   "cell_type": "markdown",
   "metadata": {},
   "source": [
    "## 2.2. Описова статистика\n",
    "Зведена статистика - це вимірювання, призначені для опису даних. У галузі описової статистики існує багато [підсумкових вимірювань](http://www.saedsayad.com/numerical_variables.htm)"
   ]
  },
  {
   "cell_type": "code",
   "execution_count": null,
   "metadata": {},
   "outputs": [],
   "source": [
    "%matplotlib inline\n",
    "import matplotlib.pyplot as plt\n",
    "\n",
    "# Підключення бібліотек для обробки даних\n",
    "import pandas as pd # обробка даних, CSV file I/O (e.g. pd.read_csv)\n",
    "import numpy as np\n",
    "from scipy.stats import norm\n",
    "import seaborn as sns # візуалізація\n",
    "\n",
    "\n",
    "plt.rcParams['figure.figsize'] = (15,8) \n",
    "plt.rcParams['axes.titlesize'] = 'large'"
   ]
  },
  {
   "cell_type": "code",
   "execution_count": null,
   "metadata": {},
   "outputs": [],
   "source": [
    "data = pd.read_csv('data/clean-data.csv', index_col=False)\n",
    "data.drop('Unnamed: 0',axis=1, inplace=True)\n",
    "#data.head(2)"
   ]
  },
  {
   "cell_type": "code",
   "execution_count": null,
   "metadata": {},
   "outputs": [],
   "source": [
    "# базова описова статистика\n",
    "data.describe()"
   ]
  },
  {
   "cell_type": "code",
   "execution_count": null,
   "metadata": {},
   "outputs": [],
   "source": [
    "data.skew()"
   ]
  },
  {
   "cell_type": "markdown",
   "metadata": {},
   "source": [
    "> Результат відхилень показує позитивне (праве) або негативне (ліве) відхилення. Значення ближчі до нуля показують менші відхилення.\n",
    "З графіку видно, що **radius_mean**, **perimeter_mean**, **area_mean**, **concavity_mean** та **concave_points_mean** корисні у прогнозуванні типу раку шляхом чіткого групування доброякісних та злоякісних утворень за цими ознаками. **area_worst** і **perimeter_worst** також є досить корисними."
   ]
  },
  {
   "cell_type": "code",
   "execution_count": null,
   "metadata": {},
   "outputs": [],
   "source": [
    "#data.diagnosis.unique()"
   ]
  },
  {
   "cell_type": "code",
   "execution_count": null,
   "metadata": {},
   "outputs": [],
   "source": [
    "# Групування за діагнозом та перевірка результатів.\n",
    "#diag_gr = data.groupby('diagnosis', axis=0)\n",
    "#pd.DataFrame(diag_gr.size(), columns=['# of observations'])"
   ]
  },
  {
   "cell_type": "markdown",
   "metadata": {},
   "source": [
    "Див. бінарне кодування в розділі 1 Problem Identification, щоб підтвердити перетворення категоріальних даних діагнозу в числові, де:\n",
    "* Злоякісна = 1 (позначає наявність ракових клітин)\n",
    "* Доброякісна = 0 (позначає відсутність ракових клітин)\n",
    "\n",
    "##### **Результати спостережень**\n",
    "> *у 357 випадках позначається відсутність ракових клітин та 212 випадків з наявністю ракових клітин*\n",
    "\n",
    "Підтвердимо це, побудувавши гістограму"
   ]
  },
  {
   "cell_type": "markdown",
   "metadata": {},
   "source": [
    "# 2.3. Унімодальна візуалізація даних\n",
    "\n",
    "Однією з головних цілей візуалізації даних є спостереження, які особливості є найбільш корисними при прогнозуванні злоякісних або доброякісних ракових утворень. Інша полягає в тому, щоб побачити загальні тенденції, які можуть допомогти у виборі моделі та підборі гіперпараметрів.\n",
    "\n",
    "Використовуючи наступні 3 методики, можна зрозуміти кожен атрибут набору даних:\n",
    "* Histograms.\n",
    "* Density Plots.\n",
    "* Box and Whisker Plots."
   ]
  },
  {
   "cell_type": "code",
   "execution_count": null,
   "metadata": {},
   "outputs": [],
   "source": [
    "# отримання частоти діагностики раку\n",
    "sns.set_style(\"white\")\n",
    "sns.set_context({\"figure.figsize\": (10, 8)})\n",
    "#sns.countplot(data['diagnosis'],label='Count',palette=\"Set3\")"
   ]
  },
  {
   "cell_type": "markdown",
   "metadata": {},
   "source": [
    "## 2.3.1 Візуалізація розподілу даних за допомогою гістограм\n",
    "Гістограми зазвичай використовуються для візуалізації числових змінних. Гістограма схожа на стовпчикову діаграму після того, як значення змінної групуються (бініруються) у кінцеве число інтервалів (бін).\n",
    "\n",
    "Гістограми групують дані в біни та надають підрахунок кількості спостережень у кожному контейнері. З форми бінів можна зрозуміти, чи є атрибут гауссовим, спотвореним чи навіть має експоненціальний розподіл."
   ]
  },
  {
   "cell_type": "markdown",
   "metadata": {},
   "source": [
    "### Розділення стовпчиків на менші фрейми для виконання візуалізації"
   ]
  },
  {
   "cell_type": "code",
   "execution_count": null,
   "metadata": {},
   "outputs": [],
   "source": [
    "# Розбиття стовпчиків на групи відповідно до їх суфіксів \n",
    "#(_mean, _se, and __worst). \n",
    "# Прив'язка до 'ID' та 'Diagnosis'\n",
    "data_id_diag=data.loc[:,[\"id\",\"diagnosis\"]]\n",
    "data_diag=data.loc[:,[\"diagnosis\"]]\n",
    "\n",
    "data_mean=data.ix[:,1:11]\n",
    "#data_se=data.ix[:,11:22]\n",
    "#data_worst=data.ix[:,23:]\n",
    "\n",
    "#print(df_id_diag.columns)\n",
    "#print(data_mean.columns)\n",
    "#print(data_se.columns)\n",
    "#print(data_worst.columns)"
   ]
  },
  {
   "cell_type": "markdown",
   "metadata": {},
   "source": [
    "### Гістограма за суфіксом \"_mean\""
   ]
  },
  {
   "cell_type": "code",
   "execution_count": null,
   "metadata": {},
   "outputs": [],
   "source": [
    "hist_mean=data_mean.hist(bins=10, figsize=(15, 10),grid=False,)\n",
    "\n",
    "#для окремих гістограм:\n",
    "#df_cut['radius_worst'].hist(bins=100)"
   ]
  },
  {
   "cell_type": "markdown",
   "metadata": {},
   "source": [
    "### Гістограма за суфіксом \"_se\""
   ]
  },
  {
   "cell_type": "code",
   "execution_count": null,
   "metadata": {},
   "outputs": [],
   "source": [
    "hist_se=data_se.hist(bins=10, figsize=(15, 10),grid=False,)"
   ]
  },
  {
   "cell_type": "markdown",
   "metadata": {},
   "source": [
    "### Гістограма за суфіксом \"_worst\""
   ]
  },
  {
   "cell_type": "code",
   "execution_count": null,
   "metadata": {},
   "outputs": [],
   "source": [
    "hist_worst=data_worst.hist(bins=10, figsize=(15, 10),grid=False,)"
   ]
  },
  {
   "cell_type": "markdown",
   "metadata": {},
   "source": [
    "З гістограм видно, що, можливо, атрибути **concavity** та **concavity_point** можуть мати експоненціальний розподіл. Також видно те, що, можливо, атрибути текстури гладкої та симетричної форми можуть мати гауссовий або майже гауссовий розподіл. Це цікаво тим, що багато методик машинного навчання передбачають універсальний розподіл Гаусса на вхідних змінних."
   ]
  },
  {
   "cell_type": "markdown",
   "metadata": {},
   "source": [
    "## 2.3.2 Візуалізація розподілу даних через графіки щільності"
   ]
  },
  {
   "cell_type": "markdown",
   "metadata": {},
   "source": [
    "### Графіки щільності для суфіксу \"_mean\""
   ]
  },
  {
   "cell_type": "code",
   "execution_count": null,
   "metadata": {},
   "outputs": [],
   "source": [
    "#Density Plots\n",
    "plt = data_mean.plot(kind= 'density', subplots=True, layout=(4,3), sharex=False, sharey=False,fontsize=12, figsize=(15,10))"
   ]
  },
  {
   "cell_type": "markdown",
   "metadata": {},
   "source": [
    "### Графіки щільності для суфіксу \"_se\""
   ]
  },
  {
   "cell_type": "code",
   "execution_count": null,
   "metadata": {},
   "outputs": [],
   "source": [
    "#Density Plots\n",
    "#plt = data_se.plot(kind= 'density', subplots=True, layout=(4,3), sharex=False, sharey=False,fontsize=12, figsize=(15,10))"
   ]
  },
  {
   "cell_type": "markdown",
   "metadata": {},
   "source": [
    "### Графіки щільності для суфіксу \"_worst\""
   ]
  },
  {
   "cell_type": "code",
   "execution_count": null,
   "metadata": {},
   "outputs": [],
   "source": [
    "#Density Plots\n",
    "#plt = data_worst.plot(kind= 'kde', subplots=True, layout=(4,3), sharex=False, sharey=False,fontsize=5, figsize=(15,10))"
   ]
  },
  {
   "cell_type": "markdown",
   "metadata": {},
   "source": [
    "З даних графіків видно, що, можливо, атрибути периметр, радіус, площа, увігнутість, компактність можуть мати експоненціальний розподіл. Також видно, що, можливо, атрибути текстури гладкої та симетричної форми можуть мати гауссовий або майже гауссовий розподіл. Це цікаво тим, що багато методик машинного навчання передбачають універсальний розподіл Гаусса на вхідних змінних."
   ]
  },
  {
   "cell_type": "markdown",
   "metadata": {},
   "source": [
    "## 2.3.3 Візуалізація розподілу даних за допомогою коробкового графіку (box plot)"
   ]
  },
  {
   "cell_type": "markdown",
   "metadata": {},
   "source": [
    "### Box plot суфіксу \"_mean\""
   ]
  },
  {
   "cell_type": "code",
   "execution_count": null,
   "metadata": {},
   "outputs": [],
   "source": [
    "# box and whisker plots\n",
    "#plt=data_mean.plot(kind= 'box' , subplots=True, layout=(4,4), sharex=False, sharey=False,fontsize=12)"
   ]
  },
  {
   "cell_type": "markdown",
   "metadata": {},
   "source": [
    "### Box plot суфіксу \"_se\""
   ]
  },
  {
   "cell_type": "code",
   "execution_count": null,
   "metadata": {},
   "outputs": [],
   "source": [
    "# box and whisker plots\n",
    "#plt=data_se.plot(kind= 'box' , subplots=True, layout=(4,4), sharex=False, sharey=False,fontsize=12)"
   ]
  },
  {
   "cell_type": "markdown",
   "metadata": {},
   "source": [
    "### Box plot суфіксу \"_worst\""
   ]
  },
  {
   "cell_type": "code",
   "execution_count": null,
   "metadata": {},
   "outputs": [],
   "source": [
    "# box and whisker plots\n",
    "#plt=data_worst.plot(kind= 'box' , subplots=True, layout=(4,4), sharex=False, sharey=False,fontsize=12)"
   ]
  },
  {
   "cell_type": "markdown",
   "metadata": {},
   "source": [
    "З даних графіків видно, що, можливо, атрибути периметр, радіус, площа, увігнутість, компактність можуть мати експоненціальний розподіл. Також видно, що, можливо, атрибути текстури гладкої та симетричної форми можуть мати гауссовий або майже гауссовий розподіл. Це цікаво тим, що багато методик машинного навчання передбачають універсальний розподіл Гаусса на вхідних змінних."
   ]
  },
  {
   "cell_type": "markdown",
   "metadata": {},
   "source": [
    "# 2.4. Мультимодальна візуалізація даних\n",
    "* Точкова діаграма\n",
    "* Кореляційна матриця"
   ]
  },
  {
   "cell_type": "markdown",
   "metadata": {},
   "source": [
    "### Кореляційна матриця"
   ]
  },
  {
   "cell_type": "code",
   "execution_count": null,
   "metadata": {},
   "outputs": [],
   "source": [
    "import pandas as pd\n",
    "import numpy as np\n",
    "import seaborn as sns\n",
    "from matplotlib import pyplot as plt\n",
    "\n",
    "plt.style.use('fivethirtyeight')\n",
    "sns.set_style(\"white\")\n",
    "\n",
    "data = pd.read_csv('data/clean-data.csv', index_col=False)\n",
    "data.drop('Unnamed: 0',axis=1, inplace=True)\n",
    "# розрахунок кореляційної матриці\n",
    "corr = data_mean.corr()\n",
    "\n",
    "# генерація маски для верхнього трикутника\n",
    "mask = np.zeros_like(corr, dtype=np.bool)\n",
    "mask[np.triu_indices_from(mask)] = True\n",
    "\n",
    "# фігура matplotlib\n",
    "data, ax = plt.subplots(figsize=(8, 8))\n",
    "plt.title('Breast Cancer Feature Correlation')\n",
    "\n",
    "# користувацька карта кольорів\n",
    "cmap = sns.diverging_palette(260, 10, as_cmap=True)\n",
    "\n",
    "# теплова карта за допомогою маски та виправлення співвідношення сторін\n",
    "sns.heatmap(corr, vmax=1.2, square='square', cmap=cmap, mask=mask, ax=ax,annot=True, fmt='.2g',linewidths=2)"
   ]
  },
  {
   "cell_type": "markdown",
   "metadata": {},
   "source": [
    "Ми можемо бачити, що існує сильна позитивна залежність між параметрами середніх значень між 1-0,75;\n",
    "* Середня площа ядра тканини має сильну позитивну кореляцію із середніми значеннями радіуса та параметра;\n",
    "* Деякі параметри мають середньо позитивний кореляційний характер (r між 0,5-0,75) - це увігнутість та площа, увігнутість та периметр тощо\n",
    "* Аналогічно, ми бачимо деяку сильну негативну кореляцію між фрактальним розміром з радіусом, текстурою, середніми параметрами."
   ]
  },
  {
   "cell_type": "code",
   "execution_count": null,
   "metadata": {},
   "outputs": [],
   "source": [
    "plt.style.use('fivethirtyeight')\n",
    "sns.set_style(\"white\")\n",
    "\n",
    "data = pd.read_csv('data/clean-data.csv', index_col=False)\n",
    "g = sns.PairGrid(data[[data.columns[1],data.columns[2],data.columns[3],\n",
    "                       data.columns[4], data.columns[5],data.columns[6]]],hue='diagnosis' )\n",
    "g = g.map_diag(plt.hist)\n",
    "g = g.map_offdiag(plt.scatter, s = 3)"
   ]
  },
  {
   "cell_type": "markdown",
   "metadata": {},
   "source": [
    "### Summary\n",
    "\n",
    "* середні значення радіусу клітин, периметра, площі, компактності, увігнутості та увігнутих точок можуть бути використані при         класифікації раку. Більші значення цих параметрів мають тенденцію виявляти кореляцію зі злоякісними пухлинами.\n",
    "\n",
    "* середні значення текстури, гладкості, симетрії чи фрагментарності не показують особливої переваги одного діагнозу перед іншим."
   ]
  }
 ],
 "metadata": {
  "kernelspec": {
   "display_name": "Python 3",
   "language": "python",
   "name": "python3"
  },
  "language_info": {
   "codemirror_mode": {
    "name": "ipython",
    "version": 3
   },
   "file_extension": ".py",
   "mimetype": "text/x-python",
   "name": "python",
   "nbconvert_exporter": "python",
   "pygments_lexer": "ipython3",
   "version": "3.7.4"
  }
 },
 "nbformat": 4,
 "nbformat_minor": 2
}
